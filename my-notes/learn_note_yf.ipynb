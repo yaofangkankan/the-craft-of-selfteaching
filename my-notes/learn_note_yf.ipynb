{
 "cells": [
  {
   "cell_type": "markdown",
   "id": "45fe7bc2-3ad5-4bee-bb6e-9af1040bc0fe",
   "metadata": {},
   "source": [
    "# 学习笔记"
   ]
  },
  {
   "cell_type": "markdown",
   "id": "03b9f5ba-7ccb-4009-9001-8108ba16713b",
   "metadata": {},
   "source": [
    "第一天 从做笔记开始\n",
    "> 今天是大年初一,是一个从头开始的好日子\n",
    "1. fork了本仓库并且创建了自己的分支\n",
    "2. 自己的笔记提交在自己分支上,有自己的pow\n",
    "3. 每天进步一点点"
   ]
  }
 ],
 "metadata": {
  "kernelspec": {
   "display_name": "Python 3 (ipykernel)",
   "language": "python",
   "name": "python3"
  },
  "language_info": {
   "codemirror_mode": {
    "name": "ipython",
    "version": 3
   },
   "file_extension": ".py",
   "mimetype": "text/x-python",
   "name": "python",
   "nbconvert_exporter": "python",
   "pygments_lexer": "ipython3",
   "version": "3.9.7"
  }
 },
 "nbformat": 4,
 "nbformat_minor": 5
}
